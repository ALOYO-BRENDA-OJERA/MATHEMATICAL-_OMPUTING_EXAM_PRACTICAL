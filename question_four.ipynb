{
 "cells": [
  {
   "cell_type": "code",
   "execution_count": 3,
   "metadata": {},
   "outputs": [
    {
     "name": "stdout",
     "output_type": "stream",
     "text": [
      "[[1.  0.2 0.5]\n",
      " [0.2 1.  0.8]\n",
      " [0.5 0.8 1. ]]\n"
     ]
    }
   ],
   "source": [
    "#question four\n",
    "import numpy as np #(importing the library used to make the matrix into array form)\n",
    "# constructing the given matrix.\n",
    "matrix=np.array ([[1, 0.2, 0.5],\n",
    "                [0.2, 1, 0.8],\n",
    "                [0.5, 0.8, 1]])\n",
    "# computing the inversion.\n",
    "inverse= np.linalg.inv(matrix) # linalg stands for linear algebra, which contains the function of inv(inverse)\n",
    "print(matrix)"
   ]
  },
  {
   "cell_type": "code",
   "execution_count": 5,
   "metadata": {},
   "outputs": [
    {
     "name": "stdout",
     "output_type": "stream",
     "text": [
      "0.2299999999999999\n"
     ]
    }
   ],
   "source": [
    "#(b) computing the determinant of the matrix \n",
    "import numpy as np\n",
    "matrix=np.array ([[1, 0.2, 0.5],  # we first restate the given matrix\n",
    "                [0.2, 1, 0.8],\n",
    "                [0.5, 0.8, 1]])\n",
    "\n",
    "determinant=np.linalg.det(matrix)#( since we are dealing with linear algebra and want to use the determinant fucntion, we use np.linalg)\n",
    "print(determinant)"
   ]
  },
  {
   "cell_type": "code",
   "execution_count": 6,
   "metadata": {},
   "outputs": [
    {
     "name": "stdout",
     "output_type": "stream",
     "text": [
      "Eigenvalues:\n",
      "[2.04100779 0.82188052 0.13711169]\n",
      "\n",
      "Eigenvectors:\n",
      "[[-0.43721717 -0.85359707 -0.28321933]\n",
      " [-0.59931898  0.51133314 -0.61591816]\n",
      " [-0.67056536  0.09955128  0.73514055]]\n"
     ]
    }
   ],
   "source": [
    "#(c)Decomposing the matrix using eigen values and eigenvectors since the given matrix is a square matrix\n",
    "#Eigenvectors are non-zero vectors associated with eigenvalues.\n",
    "#Eigenvalues are scalars associated with a square matrix\n",
    "import numpy as np\n",
    "\n",
    "# state/define the matrix\n",
    "matrix = np.array([ [1, 0.2, 0.5],\n",
    "                    [0.2, 1, 0.8],\n",
    "                    [0.5, 0.8, 1]])\n",
    "                          \n",
    "\n",
    "# Compute eigenvalues and eigenvectors using linalg\n",
    "eigenvalues, eigenvectors = np.linalg.eig(matrix)\n",
    "\n",
    "\n",
    "print(eigenvalues)\n",
    "\n",
    "\n",
    "print(eigenvectors)\n"
   ]
  },
  {
   "cell_type": "code",
   "execution_count": 7,
   "metadata": {},
   "outputs": [
    {
     "name": "stdout",
     "output_type": "stream",
     "text": [
      "Original Matrix:\n",
      "[[1.  0.2 0.5]\n",
      " [0.2 1.  0.8]\n",
      " [0.5 0.8 1. ]]\n",
      "\n",
      "Transformed Matrix (Scaled by 2):\n",
      "[[2.  0.4 1. ]\n",
      " [0.4 2.  1.6]\n",
      " [1.  1.6 2. ]]\n"
     ]
    }
   ],
   "source": [
    "#d)matrix transformation\n",
    "import numpy as np\n",
    "\n",
    "# Define the matrix\n",
    "\n",
    "matrix = np.array([[1, 0.2, 0.5],\n",
    "                   [0.2, 1, 0.8],\n",
    "                   [0.5, 0.8, 1]])\n",
    "\n",
    "# assuming a scalar\n",
    "scalar = 2\n",
    "\n",
    "# Perform the transformation (multiply matrix by the scalar)\n",
    "transformed_matrix = scalar * matrix\n",
    "# printing both matrices to compare the difference between the original and the transformed matrix.\n",
    "\n",
    "print(\"Original Matrix:\")\n",
    "print(matrix)\n",
    "\n",
    "print(\"\\nTransformed Matrix (Scaled by 2):\")\n",
    "print(transformed_matrix)\n",
    "\n"
   ]
  },
  {
   "cell_type": "code",
   "execution_count": 13,
   "metadata": {},
   "outputs": [
    {
     "name": "stdout",
     "output_type": "stream",
     "text": [
      "Solution (x, y, z) in order =: [1.75       1.96428571 1.39285714]\n",
      "Solution (x, y, z) in order =: [ 3.24038462 -0.25961538 -2.19230769]\n"
     ]
    }
   ],
   "source": [
    "#question 5\n",
    "#a python program to solve three linear equations using matrices.\n",
    "#assuming a  matrix\n",
    "\"\"\"2x + 3y - z = 8\n",
    "  3x + y + 2z= 10\n",
    "  -x +y + 2z = 3\"\"\"\n",
    "\n",
    "import numpy as np\n",
    "\n",
    "def solve_linear_equations(coefficients, constants):# defining the fuction\n",
    "    solution = np.linalg.solve(coefficients, constants) # Condition for usage of linalg\n",
    "    return solution\n",
    "\n",
    "\n",
    "# Coefficients matrix\n",
    "coefficients = np.array([[2, 3, -1],  # giving the fuction parameters/values to use.\n",
    "                         [3, 1, 2],\n",
    "                         [-1, 1, 2]])\n",
    "\n",
    "# Constants matrix\n",
    "constants = np.array([8, 10, 3])\n",
    "\n",
    "# Solve the system of equations\n",
    "result = solve_linear_equations(coefficients, constants)\n",
    "print(\"Solution (x, y, z) in order =:\", result)\n",
    "\n",
    "#END\n",
    "#TESTING RESUABILITY WITH OTHER VALUES.\n",
    "\n",
    "coefficients = np.array([[1, 7, -3],\n",
    "                         [5, 7, 2],\n",
    "                         [3, 9, 2]])\n",
    "constants = np.array([8, 10, 3])\n",
    "result = solve_linear_equations(coefficients, constants)\n",
    "print(\"Solution (x, y, z) in order =:\", result)\n",
    "\n",
    "\n"
   ]
  }
 ],
 "metadata": {
  "kernelspec": {
   "display_name": "Python 3",
   "language": "python",
   "name": "python3"
  },
  "language_info": {
   "codemirror_mode": {
    "name": "ipython",
    "version": 3
   },
   "file_extension": ".py",
   "mimetype": "text/x-python",
   "name": "python",
   "nbconvert_exporter": "python",
   "pygments_lexer": "ipython3",
   "version": "3.11.4"
  }
 },
 "nbformat": 4,
 "nbformat_minor": 2
}
